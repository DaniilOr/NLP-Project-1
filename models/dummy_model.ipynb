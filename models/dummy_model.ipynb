{
 "cells": [
  {
   "cell_type": "code",
   "execution_count": null,
   "metadata": {},
   "outputs": [],
   "source": [
    "import torch\n",
    "import torch.nn as nn\n",
    "from sentence_transformers import SentenceTransformer\n",
    "import os\n",
    "import pandas as pd\n",
    "import json"
   ]
  },
  {
   "cell_type": "code",
   "execution_count": 7,
   "metadata": {},
   "outputs": [],
   "source": [
    "model = SentenceTransformer('all-mpnet-base-v2')"
   ]
  },
  {
   "cell_type": "code",
   "execution_count": 23,
   "metadata": {},
   "outputs": [],
   "source": [
    "data_directory = \"data/\"\n",
    "home_directory = \"../\""
   ]
  },
  {
   "cell_type": "code",
   "execution_count": 22,
   "metadata": {},
   "outputs": [],
   "source": [
    "train_file_path = \"data/task_4/task_4_news_media_factuality_train.tsv\"\n",
    "dev_file_path = \"data/task_4/task_4_news_media_factuality_dev.tsv\"\n",
    "test_gold_file_path = \"task_4_news_media_factuality_test.tsv\""
   ]
  },
  {
   "cell_type": "code",
   "execution_count": 62,
   "metadata": {},
   "outputs": [],
   "source": [
    "train_raw_data = pd.read_csv(os.path.join(home_directory, data_directory, train_file_path), sep = \"\\t\")"
   ]
  },
  {
   "cell_type": "code",
   "execution_count": 63,
   "metadata": {},
   "outputs": [
    {
     "data": {
      "text/html": [
       "<div>\n",
       "<style scoped>\n",
       "    .dataframe tbody tr th:only-of-type {\n",
       "        vertical-align: middle;\n",
       "    }\n",
       "\n",
       "    .dataframe tbody tr th {\n",
       "        vertical-align: top;\n",
       "    }\n",
       "\n",
       "    .dataframe thead th {\n",
       "        text-align: right;\n",
       "    }\n",
       "</style>\n",
       "<table border=\"1\" class=\"dataframe\">\n",
       "  <thead>\n",
       "    <tr style=\"text-align: right;\">\n",
       "      <th></th>\n",
       "      <th>source</th>\n",
       "      <th>json_file_path</th>\n",
       "      <th>label</th>\n",
       "    </tr>\n",
       "  </thead>\n",
       "  <tbody>\n",
       "    <tr>\n",
       "      <th>0</th>\n",
       "      <td>newschannel5.com</td>\n",
       "      <td>data/task_4/train_json/newschannel5.com.json</td>\n",
       "      <td>2</td>\n",
       "    </tr>\n",
       "    <tr>\n",
       "      <th>1</th>\n",
       "      <td>acpeds.org</td>\n",
       "      <td>data/task_4/train_json/acpeds.org.json</td>\n",
       "      <td>0</td>\n",
       "    </tr>\n",
       "    <tr>\n",
       "      <th>2</th>\n",
       "      <td>altnewsmedia.net</td>\n",
       "      <td>data/task_4/train_json/altnewsmedia.net.json</td>\n",
       "      <td>1</td>\n",
       "    </tr>\n",
       "    <tr>\n",
       "      <th>3</th>\n",
       "      <td>nationalaffairs.com</td>\n",
       "      <td>data/task_4/train_json/nationalaffairs.com.json</td>\n",
       "      <td>2</td>\n",
       "    </tr>\n",
       "    <tr>\n",
       "      <th>4</th>\n",
       "      <td>duluthnewstribune.com</td>\n",
       "      <td>data/task_4/train_json/duluthnewstribune.com.json</td>\n",
       "      <td>2</td>\n",
       "    </tr>\n",
       "  </tbody>\n",
       "</table>\n",
       "</div>"
      ],
      "text/plain": [
       "                  source                                     json_file_path  \\\n",
       "0       newschannel5.com       data/task_4/train_json/newschannel5.com.json   \n",
       "1             acpeds.org             data/task_4/train_json/acpeds.org.json   \n",
       "2       altnewsmedia.net       data/task_4/train_json/altnewsmedia.net.json   \n",
       "3    nationalaffairs.com    data/task_4/train_json/nationalaffairs.com.json   \n",
       "4  duluthnewstribune.com  data/task_4/train_json/duluthnewstribune.com.json   \n",
       "\n",
       "   label  \n",
       "0      2  \n",
       "1      0  \n",
       "2      1  \n",
       "3      2  \n",
       "4      2  "
      ]
     },
     "execution_count": 63,
     "metadata": {},
     "output_type": "execute_result"
    }
   ],
   "source": [
    "train_raw_data.head()"
   ]
  },
  {
   "cell_type": "code",
   "execution_count": 66,
   "metadata": {},
   "outputs": [],
   "source": [
    "def get_inference_results(sentences, task = \"bias\"):\n",
    "    embeddings = torch.from_numpy(model.encode(sentences))\n",
    "    if task == \"bias\":\n",
    "        linear = nn.LazyLinear(2)\n",
    "        labels = ['Factual', 'Not Factual']\n",
    "        colname = 'Factuality'\n",
    "    else:\n",
    "        linear = nn.LazyLinear(3)\n",
    "        labels = ['Left', 'Center', 'Right']\n",
    "        colname = 'Bias'\n",
    "    scores = nn.Softmax(dim = -1)(linear(embeddings)).T.tolist()\n",
    "    results = pd.DataFrame({\n",
    "        colname: labels,\n",
    "        'Scores': scores\n",
    "    })\n",
    "    return results\n",
    "\n",
    "def get_articles(raw_data, tune = False):\n",
    "    data = []\n",
    "    for each_row in raw_data['articles']:\n",
    "        if tune:\n",
    "            data.append([each_row['content'], each_row['label']])\n",
    "        else:\n",
    "            data.append(each_row['content'])\n",
    "    return data"
   ]
  },
  {
   "cell_type": "code",
   "execution_count": 67,
   "metadata": {},
   "outputs": [],
   "source": [
    "def get_split_data(split_data):\n",
    "    data = []\n",
    "    for news_src in split_data['json_file_path']:\n",
    "        raw_data = json.loads(open(os.path.join(home_directory, data_directory, news_src)).read())\n",
    "        cur_data = get_articles(raw_data)\n",
    "        data.extend(cur_data)\n",
    "    return data"
   ]
  },
  {
   "cell_type": "code",
   "execution_count": 68,
   "metadata": {},
   "outputs": [],
   "source": [
    "train_data = get_split_data(train_raw_data)"
   ]
  },
  {
   "cell_type": "code",
   "execution_count": 70,
   "metadata": {},
   "outputs": [
    {
     "name": "stderr",
     "output_type": "stream",
     "text": [
      "/home/neemesh.yadav/.conda/envs/ugrip/lib/python3.8/site-packages/torch/nn/modules/lazy.py:178: UserWarning: Lazy modules are a new feature under heavy development so changes to the API or functionality can happen at any moment.\n",
      "  warnings.warn('Lazy modules are a new feature under heavy development '\n"
     ]
    }
   ],
   "source": [
    "factresults = get_inference_results(train_data)"
   ]
  },
  {
   "cell_type": "code",
   "execution_count": 75,
   "metadata": {},
   "outputs": [
    {
     "data": {
      "text/plain": [
       "0.4853795408662624"
      ]
     },
     "execution_count": 75,
     "metadata": {},
     "output_type": "execute_result"
    }
   ],
   "source": [
    "import numpy as np\n",
    "np.mean(factresults['Scores'][0])"
   ]
  },
  {
   "cell_type": "code",
   "execution_count": null,
   "metadata": {},
   "outputs": [],
   "source": []
  }
 ],
 "metadata": {
  "kernelspec": {
   "display_name": "ugrip",
   "language": "python",
   "name": "ugrip"
  },
  "language_info": {
   "codemirror_mode": {
    "name": "ipython",
    "version": 3
   },
   "file_extension": ".py",
   "mimetype": "text/x-python",
   "name": "python",
   "nbconvert_exporter": "python",
   "pygments_lexer": "ipython3",
   "version": "3.8.16 (default, Mar  2 2023, 03:21:46) \n[GCC 11.2.0]"
  },
  "orig_nbformat": 4
 },
 "nbformat": 4,
 "nbformat_minor": 2
}
